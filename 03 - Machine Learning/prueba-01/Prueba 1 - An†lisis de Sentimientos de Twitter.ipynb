{
 "cells": [
  {
   "cell_type": "markdown",
   "metadata": {},
   "source": [
    "# Prueba 1: Análisis de Sentimientos de Twitter\n",
    "\n",
    "<br>\n",
    "<div class=\"alert alert-block alert-success\">\n",
    "<b>Nombre del Grupo:</b> Tusca.\n",
    "\n",
    "<b>Integrante 1:</b> Juan Jose Uribe Mella.\n",
    "\n",
    "<b>Integrante 2:</b> Nicolás Ignacio Gómez Espejo.\n",
    "\n",
    "<b>Integrante 3:</b> Rafael Ignacio Mascayano O'Ryan.\n",
    "\n",
    "<b>Integrante 4:</b> Javier Ignacio López Sanhueza.\n",
    "\n",
    "               \n",
    "\n",
    "<b>Generación:</b> Generación 2.\n",
    "\n",
    "<b>Profesor:</b> Gabriel Tamayo L.\n",
    "\n",
    "</div>\n"
   ]
  },
  {
   "cell_type": "markdown",
   "metadata": {},
   "source": [
    "A  continuación  se  presenta un  problema clásico en  el  análisis de  texto: Extraer el  sentimiento asociado a un texto. Para esto, utilizaremos una base de datos provenientes de CrowdFlower. Para descargar los datos puede ejecutar el siguiente código: \n",
    "\n",
    "`wget https://www.crowdflower.com/wp-content/uploads/2016/07/text_emotion.csv`\n",
    "\n",
    "El objetivo general de esta prueba es alcanzar el mejor desempeño posible para clasificar si un tweet es positivo o negativo. Para medir el desempeño, se evaluará con un conjunto de datos del cuál no tendrán acceso. De esta manera evitaremos que los modelos aprendan información sobre el conjunto de validación."
   ]
  },
  {
   "cell_type": "markdown",
   "metadata": {},
   "source": [
    "## Requerimientos\n",
    "\n",
    "Realizaremos un análisis de sentimientos de un Tweet para saber si este está asociado a un sentimiento positivo o a un sentimiento negativo.\n",
    "\n",
    "![Example](tweet-example.png)\n",
    "\n",
    "Para esto utilizaremos la base de datos provenientes de _CrowdFlower_.\n",
    "\n",
    "## Vector Objetivo\n",
    "\n",
    "El vector objetivo será una variable binaria que indicará si el sentimiento es positivo o no.\n",
    "\n",
    "## Métricas a utilizar\n",
    "\n",
    "Como este es un problema de clasificación, nos centraremos en la predicción de la clasificación para una nueva observación. Para lo cual se utilizarán las siguientes métricas:\n",
    "\n",
    "- **Matrix de confusión**: cantidad de observaciones predichas de forma correcta.\n",
    "- **Accuracy** (exactitud): porcentaje de casos predichos correctamente por sobre el total de casos.\n",
    "- **Precision**: mide la fracción de predicciones correctas entre las etiquetas positivas.\n",
    "- **Recall**: Mide la fraccion de verdaderos positivos predichos por el modelo.\n",
    "- **F1**: representa la media armónica entre Precision y Recall (es decir, una medida general de la presición).\n",
    "- **ROC** (en particular, _AUC_): evalúa la relación entre ambos errores (falsos positivos y falso negativo) condicional en todo el rango del clasificador.\n",
    "\n",
    "De la misma forma se usarán modelos de clasificación entre los que destaca:\n",
    "- Regresión Logística,\n",
    "- Máquina de Soporte Vectorial,\n",
    "- Naive Bernoulli,\n",
    "- Random Forest,\n",
    "- Ridge,\n",
    "- AdaBoost,\n",
    "- Redes Neuronales,\n"
   ]
  },
  {
   "cell_type": "markdown",
   "metadata": {},
   "source": [
    "## Análisis Exploratorio\n",
    "\n",
    "Se procede a evaluar las variables y explorar de forma grafica el comportamientos de aquellas. Previo a aquello se procede a cargar las librerias necesarias y básicas de un data scientist."
   ]
  },
  {
   "cell_type": "code",
   "execution_count": 1,
   "metadata": {},
   "outputs": [],
   "source": [
    "# Importar librerías básicas\n",
    "import warnings\n",
    "warnings.filterwarnings('ignore')\n",
    "\n",
    "# Importación de librerías clásicas\n",
    "import pandas as pd\n",
    "import numpy as np\n",
    "import matplotlib.pyplot as plt\n",
    "import seaborn as sns\n",
    "import matplotlib.patches as mpatches\n",
    "import missingno as msgo\n",
    "\n",
    "# Importación de librerías de ML\n",
    "from sklearn.preprocessing import LabelBinarizer\n",
    "from sklearn.model_selection import GridSearchCV, train_test_split\n",
    "from sklearn.feature_extraction.text import CountVectorizer\n",
    "from sklearn.naive_bayes import BernoulliNB\n",
    "from sklearn.linear_model import LogisticRegression, RidgeClassifier\n",
    "from sklearn.svm import SVC\n",
    "from sklearn.ensemble import RandomForestClassifier\n",
    "from sklearn.pipeline import Pipeline\n",
    "from sklearn.metrics import classification_report, confusion_matrix, roc_curve, roc_auc_score\n",
    "from sklearn.feature_extraction.text import CountVectorizer\n",
    "\n",
    "# Importación de librerías para el tratamiento de texto\n",
    "import nltk\n",
    "nltk.download('stopwords', quiet=True)\n",
    "\n",
    "# Importación de librería para la persistencia del modelo  \n",
    "import pickle\n",
    "\n",
    "# Import helpers\n",
    "import helpers as nicos\n",
    "\n",
    "sns.set_style(\"darkgrid\")"
   ]
  },
  {
   "cell_type": "code",
   "execution_count": 2,
   "metadata": {},
   "outputs": [
    {
     "name": "stdout",
     "output_type": "stream",
     "text": [
      "<class 'pandas.core.frame.DataFrame'>\n",
      "RangeIndex: 30000 entries, 0 to 29999\n",
      "Data columns (total 2 columns):\n",
      "content      30000 non-null object\n",
      "sentiment    30000 non-null object\n",
      "dtypes: object(2)\n",
      "memory usage: 468.8+ KB\n"
     ]
    },
    {
     "data": {
      "text/html": [
       "<div>\n",
       "<style scoped>\n",
       "    .dataframe tbody tr th:only-of-type {\n",
       "        vertical-align: middle;\n",
       "    }\n",
       "\n",
       "    .dataframe tbody tr th {\n",
       "        vertical-align: top;\n",
       "    }\n",
       "\n",
       "    .dataframe thead th {\n",
       "        text-align: right;\n",
       "    }\n",
       "</style>\n",
       "<table border=\"1\" class=\"dataframe\">\n",
       "  <thead>\n",
       "    <tr style=\"text-align: right;\">\n",
       "      <th></th>\n",
       "      <th>content</th>\n",
       "      <th>sentiment</th>\n",
       "    </tr>\n",
       "  </thead>\n",
       "  <tbody>\n",
       "    <tr>\n",
       "      <th>0</th>\n",
       "      <td>Happy Mama's day to all mothers</td>\n",
       "      <td>love</td>\n",
       "    </tr>\n",
       "    <tr>\n",
       "      <th>1</th>\n",
       "      <td>@LysdelTellez I am lost. Please help me find a...</td>\n",
       "      <td>worry</td>\n",
       "    </tr>\n",
       "    <tr>\n",
       "      <th>2</th>\n",
       "      <td>@BoomKatt yes yes I AM, networking whore to th...</td>\n",
       "      <td>happiness</td>\n",
       "    </tr>\n",
       "    <tr>\n",
       "      <th>3</th>\n",
       "      <td>you@snapplynn Wish that would have been your t...</td>\n",
       "      <td>neutral</td>\n",
       "    </tr>\n",
       "    <tr>\n",
       "      <th>4</th>\n",
       "      <td>now i am doing the MicroEconomics project  iha...</td>\n",
       "      <td>worry</td>\n",
       "    </tr>\n",
       "  </tbody>\n",
       "</table>\n",
       "</div>"
      ],
      "text/plain": [
       "                                             content  sentiment\n",
       "0                    Happy Mama's day to all mothers       love\n",
       "1  @LysdelTellez I am lost. Please help me find a...      worry\n",
       "2  @BoomKatt yes yes I AM, networking whore to th...  happiness\n",
       "3  you@snapplynn Wish that would have been your t...    neutral\n",
       "4  now i am doing the MicroEconomics project  iha...      worry"
      ]
     },
     "execution_count": 2,
     "metadata": {},
     "output_type": "execute_result"
    },
    {
     "data": {
      "image/png": "[encoded data removed]",
      "text/plain": [
       "<Figure size 1800x720 with 2 Axes>"
      ]
     },
     "metadata": {
      "needs_background": "light"
     },
     "output_type": "display_data"
    }
   ],
   "source": [
    "# Se carga el la base de datos entregada en la web Desafio Latam. \n",
    "# Se observa que es necesario eliminar la columna con \"Unnamed: 0\", debido a que no entrega información\n",
    "\n",
    "df = pd.read_csv('training_tweets.csv').drop('Unnamed: 0', axis=1)\n",
    "\n",
    "# Se evalua el contenido y el tipo de dato en su interior. De forma paralela se busca la existencia de NaN.\n",
    "df.info()\n",
    "\n",
    "msgo.matrix(df)\n",
    "\n",
    "df.head()"
   ]
  },
  {
   "cell_type": "markdown",
   "metadata": {},
   "source": [
    "Notar que el dataset no contiene valores NaN. \n",
    "\n",
    "### Vector Objetivo\n",
    "\n",
    "Veamos como distribuye el vector objetivo sin preprocesar:"
   ]
  },
  {
   "cell_type": "code",
   "execution_count": 3,
   "metadata": {},
   "outputs": [
    {
     "data": {
      "image/png": "[encoded data removed]",
      "text/plain": [
       "<Figure size 1440x720 with 1 Axes>"
      ]
     },
     "metadata": {
      "needs_background": "light"
     },
     "output_type": "display_data"
    }
   ],
   "source": [
    "plt.figure(figsize=(20, 10))\n",
    "sns.countplot(df.sentiment, order=df.sentiment.value_counts().index);"
   ]
  },
  {
   "cell_type": "markdown",
   "metadata": {},
   "source": [
    "Notar que hay muchos datos neutrales. Para no afectar el resultado, en la etapa de _feature engineering_ vamos a eliminar los registros neutrales."
   ]
  },
  {
   "cell_type": "markdown",
   "metadata": {},
   "source": [
    "### Atributos\n",
    "\n",
    "El único atributo es `content` el cual es el texto con el Tweet. A continuación veremos cuales son las palabras más repetidas considerando todas las observaciones no neutrales:"
   ]
  },
  {
   "cell_type": "code",
   "execution_count": 4,
   "metadata": {},
   "outputs": [
    {
     "data": {
      "text/html": [
       "<div>\n",
       "<style scoped>\n",
       "    .dataframe tbody tr th:only-of-type {\n",
       "        vertical-align: middle;\n",
       "    }\n",
       "\n",
       "    .dataframe tbody tr th {\n",
       "        vertical-align: top;\n",
       "    }\n",
       "\n",
       "    .dataframe thead th {\n",
       "        text-align: right;\n",
       "    }\n",
       "</style>\n",
       "<table border=\"1\" class=\"dataframe\">\n",
       "  <thead>\n",
       "    <tr style=\"text-align: right;\">\n",
       "      <th></th>\n",
       "      <th>freq</th>\n",
       "    </tr>\n",
       "  </thead>\n",
       "  <tbody>\n",
       "    <tr>\n",
       "      <th>day</th>\n",
       "      <td>2082</td>\n",
       "    </tr>\n",
       "    <tr>\n",
       "      <th>just</th>\n",
       "      <td>1933</td>\n",
       "    </tr>\n",
       "    <tr>\n",
       "      <th>good</th>\n",
       "      <td>1474</td>\n",
       "    </tr>\n",
       "    <tr>\n",
       "      <th>like</th>\n",
       "      <td>1183</td>\n",
       "    </tr>\n",
       "    <tr>\n",
       "      <th>love</th>\n",
       "      <td>1145</td>\n",
       "    </tr>\n",
       "    <tr>\n",
       "      <th>quot</th>\n",
       "      <td>1103</td>\n",
       "    </tr>\n",
       "    <tr>\n",
       "      <th>today</th>\n",
       "      <td>1049</td>\n",
       "    </tr>\n",
       "    <tr>\n",
       "      <th>happy</th>\n",
       "      <td>1049</td>\n",
       "    </tr>\n",
       "    <tr>\n",
       "      <th>got</th>\n",
       "      <td>1026</td>\n",
       "    </tr>\n",
       "    <tr>\n",
       "      <th>http</th>\n",
       "      <td>985</td>\n",
       "    </tr>\n",
       "  </tbody>\n",
       "</table>\n",
       "</div>"
      ],
      "text/plain": [
       "       freq\n",
       "day    2082\n",
       "just   1933\n",
       "good   1474\n",
       "like   1183\n",
       "love   1145\n",
       "quot   1103\n",
       "today  1049\n",
       "happy  1049\n",
       "got    1026\n",
       "http    985"
      ]
     },
     "execution_count": 4,
     "metadata": {},
     "output_type": "execute_result"
    }
   ],
   "source": [
    "nicos.most_common_words(df[df.sentiment != 'neutral'].content.str.lower())[:10]"
   ]
  },
  {
   "cell_type": "markdown",
   "metadata": {},
   "source": [
    "Las palabras asociadas a sentimientos positivos:"
   ]
  },
  {
   "cell_type": "code",
   "execution_count": 5,
   "metadata": {},
   "outputs": [
    {
     "data": {
      "text/html": [
       "<div>\n",
       "<style scoped>\n",
       "    .dataframe tbody tr th:only-of-type {\n",
       "        vertical-align: middle;\n",
       "    }\n",
       "\n",
       "    .dataframe tbody tr th {\n",
       "        vertical-align: top;\n",
       "    }\n",
       "\n",
       "    .dataframe thead th {\n",
       "        text-align: right;\n",
       "    }\n",
       "</style>\n",
       "<table border=\"1\" class=\"dataframe\">\n",
       "  <thead>\n",
       "    <tr style=\"text-align: right;\">\n",
       "      <th></th>\n",
       "      <th>freq</th>\n",
       "    </tr>\n",
       "  </thead>\n",
       "  <tbody>\n",
       "    <tr>\n",
       "      <th>day</th>\n",
       "      <td>1417</td>\n",
       "    </tr>\n",
       "    <tr>\n",
       "      <th>good</th>\n",
       "      <td>975</td>\n",
       "    </tr>\n",
       "    <tr>\n",
       "      <th>just</th>\n",
       "      <td>964</td>\n",
       "    </tr>\n",
       "    <tr>\n",
       "      <th>love</th>\n",
       "      <td>933</td>\n",
       "    </tr>\n",
       "    <tr>\n",
       "      <th>happy</th>\n",
       "      <td>891</td>\n",
       "    </tr>\n",
       "    <tr>\n",
       "      <th>quot</th>\n",
       "      <td>673</td>\n",
       "    </tr>\n",
       "    <tr>\n",
       "      <th>http</th>\n",
       "      <td>612</td>\n",
       "    </tr>\n",
       "    <tr>\n",
       "      <th>lol</th>\n",
       "      <td>598</td>\n",
       "    </tr>\n",
       "    <tr>\n",
       "      <th>like</th>\n",
       "      <td>536</td>\n",
       "    </tr>\n",
       "    <tr>\n",
       "      <th>thanks</th>\n",
       "      <td>523</td>\n",
       "    </tr>\n",
       "  </tbody>\n",
       "</table>\n",
       "</div>"
      ],
      "text/plain": [
       "        freq\n",
       "day     1417\n",
       "good     975\n",
       "just     964\n",
       "love     933\n",
       "happy    891\n",
       "quot     673\n",
       "http     612\n",
       "lol      598\n",
       "like     536\n",
       "thanks   523"
      ]
     },
     "execution_count": 5,
     "metadata": {},
     "output_type": "execute_result"
    }
   ],
   "source": [
    "nicos.most_common_words(df[df.sentiment.isin(['happiness', 'love', 'surprise', 'fun', 'relief', 'enthusiasm'])].content.str.lower())[:10]"
   ]
  },
  {
   "cell_type": "markdown",
   "metadata": {},
   "source": [
    "Las palabras asociadas a sentimientos negativos:"
   ]
  },
  {
   "cell_type": "code",
   "execution_count": 6,
   "metadata": {},
   "outputs": [
    {
     "data": {
      "text/html": [
       "<div>\n",
       "<style scoped>\n",
       "    .dataframe tbody tr th:only-of-type {\n",
       "        vertical-align: middle;\n",
       "    }\n",
       "\n",
       "    .dataframe tbody tr th {\n",
       "        vertical-align: top;\n",
       "    }\n",
       "\n",
       "    .dataframe thead th {\n",
       "        text-align: right;\n",
       "    }\n",
       "</style>\n",
       "<table border=\"1\" class=\"dataframe\">\n",
       "  <thead>\n",
       "    <tr style=\"text-align: right;\">\n",
       "      <th></th>\n",
       "      <th>freq</th>\n",
       "    </tr>\n",
       "  </thead>\n",
       "  <tbody>\n",
       "    <tr>\n",
       "      <th>just</th>\n",
       "      <td>1405</td>\n",
       "    </tr>\n",
       "    <tr>\n",
       "      <th>day</th>\n",
       "      <td>986</td>\n",
       "    </tr>\n",
       "    <tr>\n",
       "      <th>work</th>\n",
       "      <td>911</td>\n",
       "    </tr>\n",
       "    <tr>\n",
       "      <th>like</th>\n",
       "      <td>908</td>\n",
       "    </tr>\n",
       "    <tr>\n",
       "      <th>http</th>\n",
       "      <td>786</td>\n",
       "    </tr>\n",
       "    <tr>\n",
       "      <th>today</th>\n",
       "      <td>780</td>\n",
       "    </tr>\n",
       "    <tr>\n",
       "      <th>got</th>\n",
       "      <td>767</td>\n",
       "    </tr>\n",
       "    <tr>\n",
       "      <th>good</th>\n",
       "      <td>761</td>\n",
       "    </tr>\n",
       "    <tr>\n",
       "      <th>going</th>\n",
       "      <td>744</td>\n",
       "    </tr>\n",
       "    <tr>\n",
       "      <th>quot</th>\n",
       "      <td>726</td>\n",
       "    </tr>\n",
       "  </tbody>\n",
       "</table>\n",
       "</div>"
      ],
      "text/plain": [
       "       freq\n",
       "just   1405\n",
       "day     986\n",
       "work    911\n",
       "like    908\n",
       "http    786\n",
       "today   780\n",
       "got     767\n",
       "good    761\n",
       "going   744\n",
       "quot    726"
      ]
     },
     "execution_count": 6,
     "metadata": {},
     "output_type": "execute_result"
    }
   ],
   "source": [
    "nicos.most_common_words(df[~df.sentiment.isin(['happiness', 'love', 'surprise', 'fun', 'relief', 'enthusiasm'])].content.str.lower())[:10]"
   ]
  },
  {
   "cell_type": "markdown",
   "metadata": {},
   "source": [
    "## Preprocesamiento y Feature Engineering\n",
    "\n",
    "### Estrategia de Preprocesamiento\n",
    "\n",
    "Se propone realizar un preprocesamiento de los datos, por medio de lo sugerido en el enunciado con Lemantización. Para esto se debe estudiar las funciones de la librería NTLK. De la misma forma, se puede proceder a separar las palabras de los comentarios con CountVectorizer o con TfidVectorizer. \n",
    "Luego de este preprocesamiento, se aplicaran los modelos, evaluando cual de ellos es el mejor, de las misma forma se planea utilziar un modelo de votación de ensamble para evaluar los mejores. De esta forma, se utilizarán los modelos con ambos preprocesamientos, y se eligirá el mejor modelo en tiempo de procesamiento y resultados.\n"
   ]
  },
  {
   "cell_type": "code",
   "execution_count": 7,
   "metadata": {},
   "outputs": [],
   "source": [
    "# Primero filtramos sentimientos que no son neutrales\n",
    "df = df[df.sentiment != 'neutral']"
   ]
  },
  {
   "cell_type": "markdown",
   "metadata": {},
   "source": [
    "### Vector Objetivo"
   ]
  },
  {
   "cell_type": "code",
   "execution_count": 8,
   "metadata": {},
   "outputs": [
    {
     "data": {
      "image/png": "[encoded data removed]",
      "text/plain": [
       "<Figure size 432x288 with 1 Axes>"
      ]
     },
     "metadata": {
      "needs_background": "light"
     },
     "output_type": "display_data"
    }
   ],
   "source": [
    "# Ahora generamos el vector objetivo binarizado\n",
    "positive_elements = ['happiness', 'love', 'surprise', 'fun', 'relief', 'enthusiasm']\n",
    "y = np.where(np.isin(df.sentiment, positive_elements), 1, 0)\n",
    "\n",
    "sns.countplot(y);\n",
    "plt.title('Distribución de Vector Objetivo (positivo = 1)');"
   ]
  },
  {
   "cell_type": "markdown",
   "metadata": {},
   "source": [
    "Ambas clases están balanceadas:"
   ]
  },
  {
   "cell_type": "code",
   "execution_count": 9,
   "metadata": {},
   "outputs": [
    {
     "data": {
      "text/plain": [
       "0    12022\n",
       "1    11527\n",
       "dtype: int64"
      ]
     },
     "execution_count": 9,
     "metadata": {},
     "output_type": "execute_result"
    }
   ],
   "source": [
    "pd.Series(y).value_counts()"
   ]
  },
  {
   "cell_type": "markdown",
   "metadata": {},
   "source": [
    "### Atributos"
   ]
  },
  {
   "cell_type": "markdown",
   "metadata": {},
   "source": [
    "Aplicaremos lemantización y tokenización sobre los Tweets.\n",
    "\n",
    "Guardamos en `X` la matriz de atributos (para este ejercicio, es sólo 1 columna):"
   ]
  },
  {
   "cell_type": "code",
   "execution_count": 10,
   "metadata": {},
   "outputs": [],
   "source": [
    "X = df.content"
   ]
  },
  {
   "cell_type": "markdown",
   "metadata": {},
   "source": [
    "Para el preprocesamiento, utilizaremos las stopwords del diccionario inglés junto a otros signos que no aportan información en la clasificación:"
   ]
  },
  {
   "cell_type": "code",
   "execution_count": 11,
   "metadata": {
    "scrolled": true
   },
   "outputs": [],
   "source": [
    "stopwords = nltk.corpus.stopwords.words(\"english\") + ['!','.','@',',','...','?','s', '&','/',';','-','..','\"', '½']\n",
    "stopwords = set(stopwords)\n",
    "tokenizer = nicos.LemmaTokenizer()\n",
    "tokenized_stopwords = tokenizer(' '.join(stopwords))"
   ]
  },
  {
   "cell_type": "markdown",
   "metadata": {},
   "source": [
    "Crearemos un objeto con `CountVectorizer` para utilizarlo en los modelos:"
   ]
  },
  {
   "cell_type": "code",
   "execution_count": 12,
   "metadata": {},
   "outputs": [],
   "source": [
    "count_vectorizer = CountVectorizer(tokenizer=nicos.LemmaTokenizer(),\n",
    "                                   strip_accents = 'unicode',\n",
    "                                   stop_words = tokenized_stopwords,\n",
    "                                   max_features= 2000,\n",
    "                                   lowercase = True)\n",
    "\n",
    "count_model_fit = count_vectorizer.fit_transform(X)"
   ]
  },
  {
   "cell_type": "markdown",
   "metadata": {},
   "source": [
    "Las siguientes son las 10 palabras más repetidas:"
   ]
  },
  {
   "cell_type": "code",
   "execution_count": 13,
   "metadata": {},
   "outputs": [
    {
     "data": {
      "text/plain": [
       "day      2366\n",
       "i'm      2083\n",
       "good     1469\n",
       "get      1312\n",
       "love     1213\n",
       "like     1206\n",
       "go       1152\n",
       "today    1047\n",
       "happy    1046\n",
       "got      1027\n",
       "dtype: int64"
      ]
     },
     "execution_count": 13,
     "metadata": {},
     "output_type": "execute_result"
    }
   ],
   "source": [
    "most_common = pd.DataFrame(count_model_fit.toarray(), columns = count_vectorizer.get_feature_names())\n",
    "most_common = most_common.sum().sort_values(ascending=False)\n",
    "most_common[:10]"
   ]
  },
  {
   "cell_type": "markdown",
   "metadata": {},
   "source": [
    "## Implementación de modelos"
   ]
  },
  {
   "cell_type": "code",
   "execution_count": 14,
   "metadata": {},
   "outputs": [],
   "source": [
    "x_train, x_test, y_train, y_test, = train_test_split(X, y, test_size = 0.33, random_state = 4092019)"
   ]
  },
  {
   "cell_type": "markdown",
   "metadata": {},
   "source": [
    "#### Primer Modelo: NaiveBernoulli"
   ]
  },
  {
   "cell_type": "code",
   "execution_count": 15,
   "metadata": {},
   "outputs": [
    {
     "name": "stdout",
     "output_type": "stream",
     "text": [
      "              precision    recall  f1-score   support\n",
      "\n",
      "           0       0.72      0.76      0.74      3959\n",
      "           1       0.74      0.70      0.72      3813\n",
      "\n",
      "    accuracy                           0.73      7772\n",
      "   macro avg       0.73      0.73      0.73      7772\n",
      "weighted avg       0.73      0.73      0.73      7772\n",
      "\n"
     ]
    }
   ],
   "source": [
    "model_pip_bernoulli = Pipeline([('countV', count_vectorizer),('NB',BernoulliNB())])\n",
    "model_pip_bernoulli.fit(x_train, y_train)\n",
    "print(classification_report(y_test,model_pip_bernoulli.predict(x_test)))"
   ]
  },
  {
   "cell_type": "markdown",
   "metadata": {},
   "source": [
    "#### Segundo Modelo: Regresión Logística"
   ]
  },
  {
   "cell_type": "code",
   "execution_count": 15,
   "metadata": {},
   "outputs": [
    {
     "name": "stdout",
     "output_type": "stream",
     "text": [
      "              precision    recall  f1-score   support\n",
      "\n",
      "           0       0.72      0.74      0.73      3959\n",
      "           1       0.72      0.70      0.71      3813\n",
      "\n",
      "    accuracy                           0.72      7772\n",
      "   macro avg       0.72      0.72      0.72      7772\n",
      "weighted avg       0.72      0.72      0.72      7772\n",
      "\n"
     ]
    }
   ],
   "source": [
    "model_pip_LR = Pipeline([('countV', count_vectorizer),('Lg', LogisticRegression(random_state=4092019))])\n",
    "model_pip_LR.fit(x_train, y_train)\n",
    "print(classification_report(y_test,model_pip_LR.predict(x_test)))"
   ]
  },
  {
   "cell_type": "code",
   "execution_count": 17,
   "metadata": {},
   "outputs": [
    {
     "name": "stdout",
     "output_type": "stream",
     "text": [
      "              precision    recall  f1-score   support\n",
      "\n",
      "           0       0.73      0.77      0.75      3959\n",
      "           1       0.74      0.70      0.72      3813\n",
      "\n",
      "    accuracy                           0.73      7772\n",
      "   macro avg       0.73      0.73      0.73      7772\n",
      "weighted avg       0.73      0.73      0.73      7772\n",
      "\n"
     ]
    }
   ],
   "source": [
    "from sklearn.feature_extraction.text import TfidfVectorizer\n",
    "from sklearn.preprocessing import StandardScaler\n",
    "\n",
    "tfid = TfidfVectorizer(tokenizer=nltk.tokenize.TweetTokenizer().tokenize,\n",
    "                                   strip_accents = 'unicode',\n",
    "                                   stop_words = nltk.tokenize.TweetTokenizer().tokenize(' '.join(stopwords)),\n",
    "                                   lowercase = True)\n",
    "\n",
    "model_pip_LR = Pipeline([('countV', tfid),('Lg', LogisticRegression(random_state=4092019))])\n",
    "model_pip_LR.fit(x_train, y_train)\n",
    "\n",
    "print(classification_report(y_test,model_pip_LR.predict(x_test)))"
   ]
  },
  {
   "cell_type": "markdown",
   "metadata": {},
   "source": [
    "#### Tercer Modelo: Máquina de Soporte Vectorial"
   ]
  },
  {
   "cell_type": "code",
   "execution_count": 18,
   "metadata": {},
   "outputs": [],
   "source": [
    "C = [0.0001, 0.001, 0.01, 0.1, 1, 10, 100, 1000]\n",
    "gamma = [0.0000001, 0.0001, 0.001, 0.01, 0.1, 1, 10]\n",
    "\n",
    "parameters_first = {\n",
    "    \"kernel\":[\"rbf\"],\n",
    "    \"C\": C[:3],\n",
    "    \"gamma\": gamma[:3]\n",
    "}\n",
    "\n",
    "parameters_second = {\n",
    "    \"kernel\": [\"rbf\"],\n",
    "    \"C\": C[3:],\n",
    "    \"gamma\": gamma[3:],\n",
    "}\n",
    "\n",
    "parameters_third = {\n",
    "    \"kernel\": [\"rbf\"],\n",
    "    \"C\": C[:3],\n",
    "    \"gamma\": gamma[3:]\n",
    "}\n",
    "\n",
    "parameters_fourth = {\n",
    "    \"kernel\": [\"rbf\"],\n",
    "    \"C\": C[3:],\n",
    "    \"gamma\": gamma[:3]\n",
    "}\n",
    "\n",
    "def get_gs_svm(params):\n",
    "    return Pipeline([\n",
    "        ('countV', count_vectorizer),\n",
    "        ('grid', GridSearchCV(SVC(random_state=4092019, probability=True), param_grid=params, cv=2, n_jobs=-1, refit=True)),\n",
    "    ])"
   ]
  },
  {
   "cell_type": "code",
   "execution_count": 19,
   "metadata": {},
   "outputs": [
    {
     "name": "stdout",
     "output_type": "stream",
     "text": [
      "              precision    recall  f1-score   support\n",
      "\n",
      "           0       0.51      1.00      0.67      3959\n",
      "           1       0.00      0.00      0.00      3813\n",
      "\n",
      "    accuracy                           0.51      7772\n",
      "   macro avg       0.25      0.50      0.34      7772\n",
      "weighted avg       0.26      0.51      0.34      7772\n",
      "\n"
     ]
    }
   ],
   "source": [
    "# Dado el tiempo de ejecución se separa en dos modelos\n",
    "model_GS_SVM_first = get_gs_svm(parameters_first)\n",
    "model_GS_SVM_first.fit(x_train, y_train)\n",
    "print(classification_report(y_test, model_GS_SVM_first.predict(x_test)))"
   ]
  },
  {
   "cell_type": "code",
   "execution_count": 20,
   "metadata": {},
   "outputs": [
    {
     "name": "stdout",
     "output_type": "stream",
     "text": [
      "              precision    recall  f1-score   support\n",
      "\n",
      "           0       0.71      0.79      0.75      3959\n",
      "           1       0.75      0.67      0.71      3813\n",
      "\n",
      "    accuracy                           0.73      7772\n",
      "   macro avg       0.73      0.73      0.73      7772\n",
      "weighted avg       0.73      0.73      0.73      7772\n",
      "\n"
     ]
    }
   ],
   "source": [
    "# Segundo modelo de SVM con segundo grupo de hiperparámetros\n",
    "model_GS_SVM_second = get_gs_svm(parameters_second)\n",
    "model_GS_SVM_second.fit(x_train, y_train)\n",
    "print(classification_report(y_test, model_GS_SVM_second.predict(x_test)))"
   ]
  },
  {
   "cell_type": "code",
   "execution_count": 21,
   "metadata": {},
   "outputs": [
    {
     "name": "stdout",
     "output_type": "stream",
     "text": [
      "              precision    recall  f1-score   support\n",
      "\n",
      "           0       0.51      1.00      0.67      3959\n",
      "           1       0.00      0.00      0.00      3813\n",
      "\n",
      "    accuracy                           0.51      7772\n",
      "   macro avg       0.25      0.50      0.34      7772\n",
      "weighted avg       0.26      0.51      0.34      7772\n",
      "\n"
     ]
    }
   ],
   "source": [
    "# Tercer modelo de SVM con tercer grupo de hiperparámetros\n",
    "model_SVC_third = get_gs_svm(parameters_third)\n",
    "model_SVC_third.fit(x_train, y_train)\n",
    "print(classification_report(y_test, model_SVC_third.predict(x_test)))"
   ]
  },
  {
   "cell_type": "code",
   "execution_count": 22,
   "metadata": {},
   "outputs": [
    {
     "name": "stdout",
     "output_type": "stream",
     "text": [
      "              precision    recall  f1-score   support\n",
      "\n",
      "           0       0.72      0.77      0.74      3959\n",
      "           1       0.74      0.68      0.71      3813\n",
      "\n",
      "    accuracy                           0.73      7772\n",
      "   macro avg       0.73      0.73      0.73      7772\n",
      "weighted avg       0.73      0.73      0.73      7772\n",
      "\n"
     ]
    }
   ],
   "source": [
    "# Cuarto modelo de SVM con tercer grupo de hiperparámetros\n",
    "model_SVC_fourth = get_gs_svm(parameters_fourth)\n",
    "model_SVC_fourth.fit(x_train, y_train)\n",
    "print(classification_report(y_test,model_SVC_fourth.predict(x_test)))"
   ]
  },
  {
   "cell_type": "markdown",
   "metadata": {},
   "source": [
    "#### Cuarto Modelo: Random Forest"
   ]
  },
  {
   "cell_type": "code",
   "execution_count": 23,
   "metadata": {},
   "outputs": [
    {
     "name": "stdout",
     "output_type": "stream",
     "text": [
      "              precision    recall  f1-score   support\n",
      "\n",
      "           0       0.65      0.85      0.74      3959\n",
      "           1       0.77      0.52      0.62      3813\n",
      "\n",
      "    accuracy                           0.69      7772\n",
      "   macro avg       0.71      0.69      0.68      7772\n",
      "weighted avg       0.71      0.69      0.68      7772\n",
      "\n"
     ]
    }
   ],
   "source": [
    "parameters = {\n",
    "    \"n_estimators\": list(np.linspace(20, 1000, 50, dtype = \"int\")),\n",
    "    \"max_features\": [None, \"log2\", \"sqrt\"]\n",
    "}\n",
    "\n",
    "rfc = RandomForestClassifier(\n",
    "    oob_score = True,\n",
    "    criterion = \"gini\",\n",
    "    max_depth = 16,\n",
    "    random_state = 4092019\n",
    ")\n",
    "\n",
    "model_GS_rf = Pipeline([('countV', count_vectorizer),\n",
    "                         ('grid', GridSearchCV(rfc, param_grid = parameters, cv = 2, n_jobs=-1))])\n",
    "\n",
    "model_GS_rf.fit(x_train, y_train)\n",
    "\n",
    "print(classification_report(y_test, model_GS_rf.predict(x_test)))"
   ]
  },
  {
   "cell_type": "markdown",
   "metadata": {},
   "source": [
    "#### Quinto Modelo: Ridge"
   ]
  },
  {
   "cell_type": "code",
   "execution_count": 24,
   "metadata": {},
   "outputs": [
    {
     "name": "stdout",
     "output_type": "stream",
     "text": [
      "              precision    recall  f1-score   support\n",
      "\n",
      "           0       0.74      0.71      0.72      3959\n",
      "           1       0.71      0.73      0.72      3813\n",
      "\n",
      "    accuracy                           0.72      7772\n",
      "   macro avg       0.72      0.72      0.72      7772\n",
      "weighted avg       0.72      0.72      0.72      7772\n",
      "\n"
     ]
    }
   ],
   "source": [
    "parameters = {\n",
    "    'alpha': [1e-3, 1e-2, 1e-1, 1],\n",
    "    'normalize': [True, False],\n",
    "}\n",
    "\n",
    "model_GS_ridge = Pipeline([\n",
    "    ('countV', count_vectorizer),\n",
    "    ('grid', GridSearchCV(RidgeClassifier(random_state=4092019), param_grid=parameters, cv = 2, n_jobs=-1))\n",
    "])\n",
    "\n",
    "model_GS_ridge.fit(x_train, y_train)\n",
    "print(classification_report(y_test, model_GS_ridge.predict(x_test)))"
   ]
  },
  {
   "cell_type": "markdown",
   "metadata": {},
   "source": [
    "## Elección de modelo"
   ]
  },
  {
   "cell_type": "markdown",
   "metadata": {},
   "source": [
    "Para tener más información sobre cual modelo elegir, calcularemos el AUC score y además las curvas ROC de cada modelo:"
   ]
  },
  {
   "cell_type": "code",
   "execution_count": 25,
   "metadata": {},
   "outputs": [
    {
     "name": "stdout",
     "output_type": "stream",
     "text": [
      "bernoulli AUC: 0.7967033851501892\n",
      "LR AUC: 0.8066507760140708\n",
      "SVM AUC: 0.80364229682597\n",
      "RF AUC: 0.7875176698055144\n",
      "Ridge AUC: 0.7910741870498337\n"
     ]
    }
   ],
   "source": [
    "roc_curves = {}\n",
    "\n",
    "models = [\n",
    "    ('bernoulli', model_pip_bernoulli),\n",
    "    ('LR', model_pip_LR),\n",
    "    ('SVM', model_GS_SVM_second),\n",
    "    ('RF', model_GS_rf),\n",
    "    ('Ridge', model_GS_ridge),\n",
    "]\n",
    "\n",
    "for i, (name, model) in enumerate(models):\n",
    "    if name == 'Ridge': # https://stackoverflow.com/a/22587041\n",
    "        d = model.decision_function(x_test)\n",
    "        prob = np.exp(d) / np.sum(np.exp(d))\n",
    "    else:\n",
    "        prob = model.predict_proba(x_test)[:, 1]\n",
    "    roc_curves[i] = roc_curve(y_test, prob)\n",
    "    print(name, 'AUC:', roc_auc_score(y_test, prob))"
   ]
  },
  {
   "cell_type": "code",
   "execution_count": 26,
   "metadata": {
    "scrolled": false
   },
   "outputs": [
    {
     "data": {
      "image/png": "[encoded data removed]",
      "text/plain": [
       "<Figure size 1440x720 with 1 Axes>"
      ]
     },
     "metadata": {
      "needs_background": "light"
     },
     "output_type": "display_data"
    }
   ],
   "source": [
    "\n",
    "plt.figure(figsize=(20, 10))\n",
    "\n",
    "plt.title('Curva ROC')\n",
    "\n",
    "\n",
    "for i, (name, model) in enumerate(models):\n",
    "    plt.plot(roc_curves[i][0], roc_curves[i][1], lw=1, label=name)\n",
    "\n",
    "plt.plot([0, 1], ls=\"--\", lw=1)\n",
    "plt.ylabel('Verdaderos Positivos')\n",
    "plt.legend(prop={'size': 15})\n",
    "plt.xlabel('Falsos Positivos');"
   ]
  },
  {
   "cell_type": "markdown",
   "metadata": {},
   "source": [
    "Los puntajes AUC son parecidos, siendo el mayor el modelo de regresión.\n",
    "\n",
    "Los modelos más estables en base a las métricas de `presicion`, `recall` y `f1-score` son LR y Ridge (estos tienen todas las métricas sobre 0.7). Debido a esto sumado a que LR tiene mejor AUC, nos quedaremos con el modelo de regresión:"
   ]
  },
  {
   "cell_type": "code",
   "execution_count": 17,
   "metadata": {},
   "outputs": [],
   "source": [
    "pickle.dump(model_pip_LR, open(\"grupo_nicos_&_tuskas_model_pip_LR.sav\",\"wb\"))"
   ]
  },
  {
   "cell_type": "markdown",
   "metadata": {},
   "source": [
    "### PD:\n",
    "\n",
    "¿Y qué ocurre con el Tweet de la imagen al comienzo?"
   ]
  },
  {
   "cell_type": "code",
   "execution_count": 28,
   "metadata": {},
   "outputs": [
    {
     "name": "stdout",
     "output_type": "stream",
     "text": [
      "bernoulli : 😡\n",
      "LR : 😡\n",
      "SVM : 😡\n",
      "RF : 😡\n",
      "Ridge : 😡\n"
     ]
    }
   ],
   "source": [
    "tweet = \"Democrat Congresswoman totally fabricated what I said to the wife of a soldier who died in action (and I have proof). Sad!\"\n",
    "\n",
    "for i, (name, model) in enumerate(models):\n",
    "    prediction = model.predict([tweet])[0]\n",
    "    if prediction == 1:\n",
    "        print(name, ':', '👍')\n",
    "    else:\n",
    "        print(name, ':', '😡')"
   ]
  },
  {
   "cell_type": "markdown",
   "metadata": {},
   "source": [
    "Tal y como era de esperar 😇"
   ]
  }
 ],
 "metadata": {
  "kernelspec": {
   "display_name": "Python 3",
   "language": "python",
   "name": "python3"
  },
  "language_info": {
   "codemirror_mode": {
    "name": "ipython",
    "version": 3
   },
   "file_extension": ".py",
   "mimetype": "text/x-python",
   "name": "python",
   "nbconvert_exporter": "python",
   "pygments_lexer": "ipython3",
   "version": "3.6.8"
  }
 },
 "nbformat": 4,
 "nbformat_minor": 2
}
