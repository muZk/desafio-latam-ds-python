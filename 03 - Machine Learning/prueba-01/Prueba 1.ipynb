{
 "cells": [
  {
   "cell_type": "code",
   "execution_count": 43,
   "metadata": {},
   "outputs": [],
   "source": [
    "import pandas as pd\n",
    "import numpy as np\n",
    "import warnings\n",
    "import seaborn as sns\n",
    "import matplotlib.pyplot as plt\n",
    "\n",
    "warnings.filterwarnings('ignore')"
   ]
  },
  {
   "cell_type": "code",
   "execution_count": 90,
   "metadata": {},
   "outputs": [
    {
     "data": {
      "text/html": [
       "<div>\n",
       "<style scoped>\n",
       "    .dataframe tbody tr th:only-of-type {\n",
       "        vertical-align: middle;\n",
       "    }\n",
       "\n",
       "    .dataframe tbody tr th {\n",
       "        vertical-align: top;\n",
       "    }\n",
       "\n",
       "    .dataframe thead th {\n",
       "        text-align: right;\n",
       "    }\n",
       "</style>\n",
       "<table border=\"1\" class=\"dataframe\">\n",
       "  <thead>\n",
       "    <tr style=\"text-align: right;\">\n",
       "      <th></th>\n",
       "      <th>content</th>\n",
       "      <th>sentiment</th>\n",
       "    </tr>\n",
       "  </thead>\n",
       "  <tbody>\n",
       "    <tr>\n",
       "      <th>0</th>\n",
       "      <td>Happy Mama's day to all mothers</td>\n",
       "      <td>love</td>\n",
       "    </tr>\n",
       "    <tr>\n",
       "      <th>1</th>\n",
       "      <td>@LysdelTellez I am lost. Please help me find a...</td>\n",
       "      <td>worry</td>\n",
       "    </tr>\n",
       "    <tr>\n",
       "      <th>2</th>\n",
       "      <td>@BoomKatt yes yes I AM, networking whore to th...</td>\n",
       "      <td>happiness</td>\n",
       "    </tr>\n",
       "    <tr>\n",
       "      <th>3</th>\n",
       "      <td>you@snapplynn Wish that would have been your t...</td>\n",
       "      <td>neutral</td>\n",
       "    </tr>\n",
       "    <tr>\n",
       "      <th>4</th>\n",
       "      <td>now i am doing the MicroEconomics project  iha...</td>\n",
       "      <td>worry</td>\n",
       "    </tr>\n",
       "  </tbody>\n",
       "</table>\n",
       "</div>"
      ],
      "text/plain": [
       "                                             content  sentiment\n",
       "0                    Happy Mama's day to all mothers       love\n",
       "1  @LysdelTellez I am lost. Please help me find a...      worry\n",
       "2  @BoomKatt yes yes I AM, networking whore to th...  happiness\n",
       "3  you@snapplynn Wish that would have been your t...    neutral\n",
       "4  now i am doing the MicroEconomics project  iha...      worry"
      ]
     },
     "execution_count": 90,
     "metadata": {},
     "output_type": "execute_result"
    }
   ],
   "source": [
    "df = pd.read_csv('training_tweets.csv').drop(columns='Unnamed: 0')\n",
    "df.head()"
   ]
  },
  {
   "cell_type": "code",
   "execution_count": 91,
   "metadata": {},
   "outputs": [],
   "source": [
    "from sklearn.base import BaseEstimator, TransformerMixin\n",
    "from sklearn.pipeline import Pipeline"
   ]
  },
  {
   "cell_type": "markdown",
   "metadata": {},
   "source": [
    "## Preprocesamiento y Feature Engineering"
   ]
  },
  {
   "cell_type": "markdown",
   "metadata": {},
   "source": [
    "### Atributos\n",
    "\n",
    "Primero eliminaremos llas observaciones con `sentiment = neutral` y luego hay que procesar el texto de cada tweet (`content`). \n",
    "\n",
    "Para esto:\n",
    "\n",
    "1. Lo pasaremos a minúscula.\n",
    "2. Lemantizaremos.\n",
    "3. Convertiremos a una matriz de token counts\n",
    "\n",
    "Para hacer estos tres pasos utilizaremos `CountVectorizer` y `TweetTokenizer` (código adatado de [aquí](s://stackoverflow.com/questions/47423854/sklearn-adding-lemmatizer-to-countvectorizer)):"
   ]
  },
  {
   "cell_type": "code",
   "execution_count": 95,
   "metadata": {},
   "outputs": [],
   "source": [
    "df = df[df.sentiment != 'neutral']"
   ]
  },
  {
   "cell_type": "code",
   "execution_count": 96,
   "metadata": {},
   "outputs": [],
   "source": [
    "from nltk import word_tokenize  \n",
    "from nltk.tokenize import TweetTokenizer\n",
    "from sklearn.feature_extraction.text import CountVectorizer\n",
    "\n",
    "class LemmaTokenizer(object):\n",
    "    def __init__(self):\n",
    "        self.wnl = WordNetLemmatizer()\n",
    "        self.tknzr = TweetTokenizer()\n",
    "    def __call__(self, sentences):\n",
    "        return [self.wnl.lemmatize(t) for t in self.tknzr.tokenize(sentences)]\n",
    "\n",
    "def get_count_vectorizer():\n",
    "    return CountVectorizer(tokenizer = LemmaTokenizer(),\n",
    "                           max_features = 1000,\n",
    "                           strip_accents = 'unicode',\n",
    "                           stop_words = 'english',\n",
    "                           lowercase = True)"
   ]
  },
  {
   "cell_type": "markdown",
   "metadata": {},
   "source": [
    "### Vector objetivo\n",
    "\n",
    "El vector objetivo será binario, donde el 1 indicará los casos positivos y el 0 los casos negativos:"
   ]
  },
  {
   "cell_type": "code",
   "execution_count": 97,
   "metadata": {},
   "outputs": [],
   "source": [
    "y = np.where(np.isin(df.sentiment, ['happiness','love', 'surprise', 'fun', 'relief', 'enthusiasm']), 1, 0)"
   ]
  },
  {
   "cell_type": "markdown",
   "metadata": {},
   "source": [
    "### Visualización post preprocesamiento"
   ]
  },
  {
   "cell_type": "code",
   "execution_count": 98,
   "metadata": {
    "scrolled": true
   },
   "outputs": [
    {
     "data": {
      "image/png": "[encoded data removed]",
      "text/plain": [
       "<Figure size 432x288 with 1 Axes>"
      ]
     },
     "metadata": {
      "needs_background": "light"
     },
     "output_type": "display_data"
    }
   ],
   "source": [
    "plt.title('Vector Objetivo')\n",
    "sns.countplot(y);"
   ]
  },
  {
   "cell_type": "code",
   "execution_count": 99,
   "metadata": {},
   "outputs": [
    {
     "data": {
      "text/plain": [
       "0    12022\n",
       "1    11527\n",
       "dtype: int64"
      ]
     },
     "execution_count": 99,
     "metadata": {},
     "output_type": "execute_result"
    }
   ],
   "source": [
    "pd.Series(y).value_counts()"
   ]
  },
  {
   "cell_type": "markdown",
   "metadata": {},
   "source": [
    "Ahora graficaremos las palabras más repetidas usando count vectorizer"
   ]
  },
  {
   "cell_type": "code",
   "execution_count": 100,
   "metadata": {},
   "outputs": [],
   "source": [
    "X = df.content"
   ]
  },
  {
   "cell_type": "code",
   "execution_count": 101,
   "metadata": {},
   "outputs": [
    {
     "data": {
      "image/png": "[encoded data removed]",
      "text/plain": [
       "<Figure size 432x288 with 1 Axes>"
      ]
     },
     "metadata": {
      "needs_background": "light"
     },
     "output_type": "display_data"
    }
   ],
   "source": [
    "count_vectorizer = get_count_vectorizer()\n",
    "count_vectorizer_fit = count_vectorizer.fit_transform(X)\n",
    "count_df = pd.DataFrame(count_vectorizer_fit.toarray(), columns = count_vectorizer.get_feature_names())\n",
    "best_count = count_df.sum().sort_values(ascending=False)[:15]\n",
    "best_count.to_frame().plot.barh().set_title('Palabras más repetidas');"
   ]
  },
  {
   "cell_type": "markdown",
   "metadata": {},
   "source": [
    "## Elección de modelos\n",
    "\n",
    "Los modelos que utilizaremos serán los siguientes:"
   ]
  },
  {
   "cell_type": "code",
   "execution_count": 102,
   "metadata": {},
   "outputs": [],
   "source": [
    "from sklearn.pipeline import Pipeline\n",
    "from sklearn.model_selection import train_test_split\n",
    "from sklearn.metrics import classification_report, roc_curve, confusion_matrix,roc_auc_score\n",
    "\n",
    "X_train, X_test, y_train, y_test, = train_test_split(X, y, test_size = 0.33, random_state = 4092019)"
   ]
  },
  {
   "cell_type": "code",
   "execution_count": 109,
   "metadata": {},
   "outputs": [],
   "source": [
    "from sklearn.model_selection import GridSearchCV\n",
    "from sklearn.naive_bayes import BernoulliNB\n",
    "from sklearn.linear_model import LogisticRegression\n",
    "from sklearn.svm import SVC\n",
    "from sklearn.discriminant_analysis import LinearDiscriminantAnalysis, QuadraticDiscriminantAnalysis\n",
    "from sklearn.tree import DecisionTreeClassifier"
   ]
  },
  {
   "cell_type": "code",
   "execution_count": 129,
   "metadata": {},
   "outputs": [],
   "source": [
    "params = {\n",
    "    'tree': { 'max_depth': np.linspace(1, 32, 32), 'max_features': list(range(0, 1000 - 1)) },\n",
    "    'svm': { 'C': [0.0001, 0.001, 0.01, 0.1, 1, 10, 100, 1000], 'gamma': [0.0000001, 0.0001, 0.001, 0.01, 0.1, 1, 10]},\n",
    "}\n",
    "\n",
    "models = [\n",
    "    LogisticRegression(),\n",
    "    DecisionTreeClassifier(random_state = 4092019),\n",
    "    GridSearchCV(SVC(kernel='rbf'), params['svm'], cv=2),\n",
    "]"
   ]
  },
  {
   "cell_type": "code",
   "execution_count": null,
   "metadata": {
    "scrolled": false
   },
   "outputs": [
    {
     "name": "stdout",
     "output_type": "stream",
     "text": [
      "=== 0 ===\n",
      "Matriz de confusión:\n",
      "\n",
      "col_0     0     1\n",
      "row_0            \n",
      "0      2992   967\n",
      "1      1144  2669\n",
      "\n",
      "Reporte de clasificación:\n",
      "\n",
      "              precision    recall  f1-score   support\n",
      "\n",
      "           0       0.72      0.76      0.74      3959\n",
      "           1       0.73      0.70      0.72      3813\n",
      "\n",
      "    accuracy                           0.73      7772\n",
      "   macro avg       0.73      0.73      0.73      7772\n",
      "weighted avg       0.73      0.73      0.73      7772\n",
      "\n",
      "\n",
      "AUC: 0.7983123567842347 \n",
      "\n",
      "=== 1 ===\n",
      "Matriz de confusión:\n",
      "\n",
      "col_0     0     1\n",
      "row_0            \n",
      "0      2560  1399\n",
      "1      1373  2440\n",
      "\n",
      "Reporte de clasificación:\n",
      "\n",
      "              precision    recall  f1-score   support\n",
      "\n",
      "           0       0.65      0.65      0.65      3959\n",
      "           1       0.64      0.64      0.64      3813\n",
      "\n",
      "    accuracy                           0.64      7772\n",
      "   macro avg       0.64      0.64      0.64      7772\n",
      "weighted avg       0.64      0.64      0.64      7772\n",
      "\n",
      "\n",
      "AUC: 0.6445135547836343 \n",
      "\n",
      "=== 2 ===\n"
     ]
    }
   ],
   "source": [
    "for i, model in enumerate(models):\n",
    "    print('===',i,'===')\n",
    "\n",
    "    pipeline = Pipeline([('count', get_count_vectorizer()),\n",
    "                      ('model', model)])\n",
    "\n",
    "    pipeline.fit(X_train, y_train)\n",
    "    y_hat = pipeline.predict(X_test)\n",
    "\n",
    "    confusion = confusion_matrix(y_test, y_hat)\n",
    "\n",
    "    print('Matriz de confusión:\\n')\n",
    "    print(pd.crosstab(y_test, y_hat))\n",
    "\n",
    "    print('\\nReporte de clasificación:\\n')\n",
    "    print(classification_report(y_test, y_hat))\n",
    "\n",
    "    prob = pipeline.predict_proba(X_test)[:, 1]\n",
    "    roc = roc_curve(y_test, prob)\n",
    "\n",
    "    print('\\nAUC:', roc_auc_score(y_test, prob), '\\n')"
   ]
  },
  {
   "cell_type": "code",
   "execution_count": null,
   "metadata": {},
   "outputs": [],
   "source": []
  }
 ],
 "metadata": {
  "kernelspec": {
   "display_name": "Python 3",
   "language": "python",
   "name": "python3"
  },
  "language_info": {
   "codemirror_mode": {
    "name": "ipython",
    "version": 3
   },
   "file_extension": ".py",
   "mimetype": "text/x-python",
   "name": "python",
   "nbconvert_exporter": "python",
   "pygments_lexer": "ipython3",
   "version": "3.7.3"
  }
 },
 "nbformat": 4,
 "nbformat_minor": 2
}
