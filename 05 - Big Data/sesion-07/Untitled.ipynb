{
 "cells": [
  {
   "cell_type": "code",
   "execution_count": 5,
   "metadata": {},
   "outputs": [],
   "source": [
    "import findspark\n",
    "findspark.init()\n",
    "\n",
    "from pyspark import SparkContext, SparkConf\n",
    "import random"
   ]
  },
  {
   "cell_type": "markdown",
   "metadata": {},
   "source": [
    "# Ejercicio 1: Preliminares y datos perdidos"
   ]
  },
  {
   "cell_type": "markdown",
   "metadata": {},
   "source": [
    "Creamos los objetos pedidos"
   ]
  },
  {
   "cell_type": "code",
   "execution_count": 8,
   "metadata": {},
   "outputs": [],
   "source": [
    "spark_conf = SparkConf().setMaster(\"local[4]\").setAppName('spark-i-dont-love-you')\n",
    "sc = SparkContext(conf=spark_conf)"
   ]
  },
  {
   "cell_type": "markdown",
   "metadata": {},
   "source": [
    "Leemos el archivo"
   ]
  },
  {
   "cell_type": "code",
   "execution_count": 14,
   "metadata": {},
   "outputs": [],
   "source": [
    "data = sc.textFile('household_power_consumption.txt')"
   ]
  },
  {
   "cell_type": "markdown",
   "metadata": {},
   "source": [
    "Removemos la primera fila"
   ]
  },
  {
   "cell_type": "code",
   "execution_count": 24,
   "metadata": {},
   "outputs": [],
   "source": [
    "def remove_header(itr_index, itr):\n",
    "    return iter(list(itr)[1:]) if itr_index == 0 else itr\n",
    "\n",
    "rdd = data.mapPartitionsWithIndex(remove_header)"
   ]
  },
  {
   "cell_type": "markdown",
   "metadata": {},
   "source": [
    "¿Funciona? Obviamente 🤗"
   ]
  },
  {
   "cell_type": "code",
   "execution_count": 26,
   "metadata": {},
   "outputs": [
    {
     "data": {
      "text/plain": [
       "['16/12/2006;17:24:00;4.216;0.418;234.840;18.400;0.000;1.000;17.000']"
      ]
     },
     "execution_count": 26,
     "metadata": {},
     "output_type": "execute_result"
    }
   ],
   "source": [
    "rdd.take(1)"
   ]
  },
  {
   "cell_type": "markdown",
   "metadata": {},
   "source": [
    "Transformamos los datos a tupla:"
   ]
  },
  {
   "cell_type": "code",
   "execution_count": 50,
   "metadata": {},
   "outputs": [],
   "source": [
    "def to_float(x):\n",
    "    try:\n",
    "        return float(x)\n",
    "    except:\n",
    "        return None\n",
    "\n",
    "def to_tuple(values):\n",
    "    strings = list(map(str, values[:2]))\n",
    "    numbers = list(map(to_float, values[2:]))\n",
    "    return tuple(strings + numbers)\n",
    "\n",
    "rdd2 = rdd.map(lambda x: x.split(';')).map(to_tuple)"
   ]
  },
  {
   "cell_type": "markdown",
   "metadata": {},
   "source": [
    "¿Funciona? Obviamente 🤗"
   ]
  },
  {
   "cell_type": "code",
   "execution_count": 51,
   "metadata": {},
   "outputs": [
    {
     "data": {
      "text/plain": [
       "[('16/12/2006', '17:24:00', 4.216, 0.418, 234.84, 18.4, 0.0, 1.0, 17.0)]"
      ]
     },
     "execution_count": 51,
     "metadata": {},
     "output_type": "execute_result"
    }
   ],
   "source": [
    "rdd2.take(1)"
   ]
  },
  {
   "cell_type": "code",
   "execution_count": 55,
   "metadata": {},
   "outputs": [
    {
     "name": "stdout",
     "output_type": "stream",
     "text": [
      "La cantidad de datos TOTALES es 2075259\n"
     ]
    }
   ],
   "source": [
    "print(f\"La cantidad de datos TOTALES es {rdd2.count()}\")"
   ]
  },
  {
   "cell_type": "code",
   "execution_count": 52,
   "metadata": {},
   "outputs": [],
   "source": [
    "def has_missing_value(data):\n",
    "    for x in data:\n",
    "        if x is None:\n",
    "            return True\n",
    "    return False\n",
    "\n",
    "has_missing = rdd2.map(has_missing_value).filter(lambda x: x)"
   ]
  },
  {
   "cell_type": "code",
   "execution_count": 54,
   "metadata": {},
   "outputs": [
    {
     "name": "stdout",
     "output_type": "stream",
     "text": [
      "La cantidad de datos faltantes es 25979\n"
     ]
    }
   ],
   "source": [
    "print(f\"La cantidad de datos faltantes es {has_missing.count()}\")"
   ]
  },
  {
   "cell_type": "code",
   "execution_count": 72,
   "metadata": {},
   "outputs": [],
   "source": [
    "def get_year(x):\n",
    "    date = x.split('/')\n",
    "    return data[2]\n",
    "\n",
    "missing_by_year = rdd2.filter(has_missing_value).map(lambda x: (x[0].split('/')[-1], 1)).groupByKey().map(lambda x: (x[0], len(x[1])))"
   ]
  },
  {
   "cell_type": "code",
   "execution_count": 86,
   "metadata": {
    "scrolled": true
   },
   "outputs": [
    {
     "name": "stdout",
     "output_type": "stream",
     "text": [
      "La cantidad de registros nulos por año es:\n",
      "2008 135\n",
      "2007 3931\n",
      "2010 17629\n",
      "2006 4\n",
      "2009 4280\n"
     ]
    }
   ],
   "source": [
    "print(\"La cantidad de registros nulos por año es:\")\n",
    "\n",
    "for data_year in missing_by_year.collect():\n",
    "    print(data_year[0], data_year[1])"
   ]
  },
  {
   "cell_type": "markdown",
   "metadata": {},
   "source": [
    "El mayor es el 2010 😀"
   ]
  },
  {
   "cell_type": "code",
   "execution_count": 92,
   "metadata": {},
   "outputs": [],
   "source": [
    "def max_year(row):\n",
    "    day, month, year = row[0].split('/')\n",
    "    return year == '2010'\n",
    "\n",
    "def row_to_month(row):\n",
    "    day, month, year = row[0].split('/')\n",
    "    return (month, 1)\n",
    "\n",
    "missing_by_month = rdd2 \\\n",
    "    .filter(max_year) \\\n",
    "    .filter(has_missing_value) \\\n",
    "    .map(row_to_month) \\\n",
    "    .groupByKey() \\\n",
    "    .map(lambda x: (x[0], len(x[1]))) \\\n",
    "    .sortBy(lambda x: int(x[0]))"
   ]
  },
  {
   "cell_type": "code",
   "execution_count": 93,
   "metadata": {},
   "outputs": [
    {
     "name": "stdout",
     "output_type": "stream",
     "text": [
      "La cantidad de registros nulos por mes para el año 2010 es:\n",
      "1 3131\n",
      "2 2\n",
      "3 2027\n",
      "4 1\n",
      "5 1\n",
      "6 2\n",
      "7 1\n",
      "8 7226\n",
      "9 5237\n",
      "10 1\n"
     ]
    }
   ],
   "source": [
    "print(\"La cantidad de registros nulos por mes para el año 2010 es:\")\n",
    "\n",
    "for data_month in missing_by_month.collect():\n",
    "    print(data_month[0], data_month[1])"
   ]
  },
  {
   "cell_type": "markdown",
   "metadata": {},
   "source": [
    "Como podemos ver, el mes con mayor cantidad de registros nulos es el \"8\", es decir, Agosto"
   ]
  },
  {
   "cell_type": "markdown",
   "metadata": {},
   "source": [
    "# Ejercicio 2: Preparación de los datos"
   ]
  },
  {
   "cell_type": "markdown",
   "metadata": {},
   "source": [
    "Genere un objeto donde se encuentren sólo aquellos datos sin registros perdidos."
   ]
  },
  {
   "cell_type": "code",
   "execution_count": 107,
   "metadata": {},
   "outputs": [],
   "source": [
    "without_missing = rdd2.filter(lambda x: not has_missing_value(x))"
   ]
  },
  {
   "cell_type": "markdown",
   "metadata": {},
   "source": [
    "La transformación al formato solicitado:"
   ]
  },
  {
   "cell_type": "code",
   "execution_count": 99,
   "metadata": {},
   "outputs": [],
   "source": [
    "def transform(x):\n",
    "    numbers = x[2:]\n",
    "    day, month, year = list(map(int, x[0].split('/')))\n",
    "    return tuple([year, month, day] + list(numbers))"
   ]
  },
  {
   "cell_type": "markdown",
   "metadata": {},
   "source": [
    "Ejemplo:"
   ]
  },
  {
   "cell_type": "code",
   "execution_count": 108,
   "metadata": {},
   "outputs": [
    {
     "data": {
      "text/plain": [
       "('16/12/2006', '17:24:00', 4.216, 0.418, 234.84, 18.4, 0.0, 1.0, 17.0)"
      ]
     },
     "execution_count": 108,
     "metadata": {},
     "output_type": "execute_result"
    }
   ],
   "source": [
    "without_missing.first()"
   ]
  },
  {
   "cell_type": "code",
   "execution_count": 109,
   "metadata": {},
   "outputs": [
    {
     "data": {
      "text/plain": [
       "(2006, 12, 16, 4.216, 0.418, 234.84, 18.4, 0.0, 1.0, 17.0)"
      ]
     },
     "execution_count": 109,
     "metadata": {},
     "output_type": "execute_result"
    }
   ],
   "source": [
    "transform(without_missing.first())"
   ]
  },
  {
   "cell_type": "code",
   "execution_count": 110,
   "metadata": {},
   "outputs": [],
   "source": [
    "final_rdd = without_missing.map(transform)"
   ]
  },
  {
   "cell_type": "code",
   "execution_count": 114,
   "metadata": {},
   "outputs": [
    {
     "name": "stdout",
     "output_type": "stream",
     "text": [
      "((2006, 12, 16, 4.216, 0.418, 234.84, 18.4, 0.0, 1.0, 17.0), 0)\n",
      "((2006, 12, 16, 5.36, 0.436, 233.63, 23.0, 0.0, 1.0, 16.0), 1)\n",
      "((2006, 12, 16, 5.374, 0.498, 233.29, 23.0, 0.0, 2.0, 17.0), 2)\n",
      "((2006, 12, 16, 5.388, 0.502, 233.74, 23.0, 0.0, 1.0, 17.0), 3)\n",
      "((2006, 12, 16, 3.666, 0.528, 235.68, 15.8, 0.0, 1.0, 17.0), 4)\n"
     ]
    }
   ],
   "source": [
    "for row in final_rdd.zipWithIndex().filter(lambda x: x[1] < 5).collect():\n",
    "    print(row)"
   ]
  },
  {
   "cell_type": "markdown",
   "metadata": {},
   "source": [
    "# Ejercicio 3: Patrones globales"
   ]
  },
  {
   "cell_type": "code",
   "execution_count": 132,
   "metadata": {},
   "outputs": [
    {
     "data": {
      "text/plain": [
       "['year',\n",
       " 'month',\n",
       " 'day',\n",
       " 'global_activity_power',\n",
       " 'global_reactive_power',\n",
       " 'voltage',\n",
       " 'global_intensity',\n",
       " 'submetering_1',\n",
       " 'submetering_2',\n",
       " 'submetering_3']"
      ]
     },
     "execution_count": 132,
     "metadata": {},
     "output_type": "execute_result"
    }
   ],
   "source": [
    "columns = 'year,month,day,global_activity_power,global_reactive_power,voltage,global_intensity,submetering_1,submetering_2,submetering_3'.split(',')\n",
    "columns"
   ]
  },
  {
   "cell_type": "code",
   "execution_count": 134,
   "metadata": {},
   "outputs": [],
   "source": [
    "def report(col_index):\n",
    "    column_rdd = final_rdd.map(lambda x: x[col_index])\n",
    "    \n",
    "    n = column_rdd.count()\n",
    "    average = column_rdd.reduce(lambda x, y: (x + y)) / n\n",
    "    \n",
    "    std = (column_rdd.map(lambda x: (x - average) ** 2).reduce(lambda x, y: x + y) / 2) ** 0.5\n",
    "    \n",
    "    se = std / n\n",
    "    conf_1 = average + 1.96 * se\n",
    "    conf_2 = average - 1.96 * se\n",
    "    \n",
    "    print('Promedio:', average)\n",
    "    print('DE:', std)\n",
    "    print(f'Intervalo de confianza: ({conf_1}, {conf_2})')"
   ]
  },
  {
   "cell_type": "code",
   "execution_count": 129,
   "metadata": {},
   "outputs": [
    {
     "name": "stdout",
     "output_type": "stream",
     "text": [
      "Promedio: 0.12371447630388221\n",
      "DE: 114.10223569001965\n",
      "Intervalo de confianza: (0.12382360750213352, 0.12360534510563091)\n"
     ]
    }
   ],
   "source": []
  },
  {
   "cell_type": "code",
   "execution_count": 133,
   "metadata": {},
   "outputs": [],
   "source": [
    "columns_to_report = [\n",
    "    'global_activity_power',\n",
    "    'global_reactive_power',\n",
    "    'voltage',\n",
    "    'global_intensity',\n",
    "]"
   ]
  },
  {
   "cell_type": "code",
   "execution_count": null,
   "metadata": {},
   "outputs": [],
   "source": [
    "for col in columns_to_report:\n",
    "    report(columns.index(col)"
   ]
  }
 ],
 "metadata": {
  "kernelspec": {
   "display_name": "Python 3",
   "language": "python",
   "name": "python3"
  },
  "language_info": {
   "codemirror_mode": {
    "name": "ipython",
    "version": 3
   },
   "file_extension": ".py",
   "mimetype": "text/x-python",
   "name": "python",
   "nbconvert_exporter": "python",
   "pygments_lexer": "ipython3",
   "version": "3.7.3"
  }
 },
 "nbformat": 4,
 "nbformat_minor": 2
}
